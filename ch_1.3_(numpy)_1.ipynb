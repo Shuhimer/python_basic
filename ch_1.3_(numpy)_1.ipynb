{
 "cells": [
  {
   "cell_type": "markdown",
   "metadata": {},
   "source": [
    "# Numpy 기초"
   ]
  },
  {
   "cell_type": "markdown",
   "metadata": {},
   "source": [
    "## 1. Numpy 란?"
   ]
  },
  {
   "cell_type": "code",
   "execution_count": 1,
   "metadata": {},
   "outputs": [],
   "source": [
    "# numpy 사용하기\n",
    "import numpy as np"
   ]
  },
  {
   "cell_type": "markdown",
   "metadata": {},
   "source": [
    "## 2. Array 정의 및 사용하기"
   ]
  },
  {
   "cell_type": "code",
   "execution_count": 2,
   "metadata": {},
   "outputs": [
    {
     "data": {
      "text/plain": [
       "[1, 2, 3, 4, 5]"
      ]
     },
     "execution_count": 2,
     "metadata": {},
     "output_type": "execute_result"
    }
   ],
   "source": [
    "data1 = [1,2,3,4,5]\n",
    "data1"
   ]
  },
  {
   "cell_type": "code",
   "execution_count": 3,
   "metadata": {},
   "outputs": [
    {
     "data": {
      "text/plain": [
       "[1, 2, 3, 3.5, 4]"
      ]
     },
     "execution_count": 3,
     "metadata": {},
     "output_type": "execute_result"
    }
   ],
   "source": [
    "data2 = [1,2,3,3.5,4]\n",
    "data2"
   ]
  },
  {
   "cell_type": "code",
   "execution_count": 4,
   "metadata": {},
   "outputs": [
    {
     "data": {
      "text/plain": [
       "array([1, 2, 3, 4, 5])"
      ]
     },
     "execution_count": 4,
     "metadata": {},
     "output_type": "execute_result"
    }
   ],
   "source": [
    "# numpy를 이용하여 array 정의하기\n",
    "# 1. 위에서 만든 python list를 이용\n",
    "arr1 = np.array(data1)\n",
    "arr1"
   ]
  },
  {
   "cell_type": "code",
   "execution_count": 5,
   "metadata": {},
   "outputs": [
    {
     "data": {
      "text/plain": [
       "(5,)"
      ]
     },
     "execution_count": 5,
     "metadata": {},
     "output_type": "execute_result"
    }
   ],
   "source": [
    "# array의 형태(크기)를 확인할 수 있다.\n",
    "arr1.shape"
   ]
  },
  {
   "cell_type": "code",
   "execution_count": 6,
   "metadata": {},
   "outputs": [
    {
     "data": {
      "text/plain": [
       "array([1, 2, 3, 4, 5])"
      ]
     },
     "execution_count": 6,
     "metadata": {},
     "output_type": "execute_result"
    }
   ],
   "source": [
    "# 2. 바로 python list를 넣어 줌으로써 만들기\n",
    "arr2 = np.array([1,2,3,4,5])\n",
    "arr2"
   ]
  },
  {
   "cell_type": "code",
   "execution_count": 7,
   "metadata": {},
   "outputs": [
    {
     "data": {
      "text/plain": [
       "(5,)"
      ]
     },
     "execution_count": 7,
     "metadata": {},
     "output_type": "execute_result"
    }
   ],
   "source": [
    "arr2.shape"
   ]
  },
  {
   "cell_type": "code",
   "execution_count": 8,
   "metadata": {},
   "outputs": [
    {
     "data": {
      "text/plain": [
       "dtype('int32')"
      ]
     },
     "execution_count": 8,
     "metadata": {},
     "output_type": "execute_result"
    }
   ],
   "source": [
    "# array의 자료형을 확인할 수 있다.\n",
    "arr2.dtype"
   ]
  },
  {
   "cell_type": "code",
   "execution_count": 9,
   "metadata": {},
   "outputs": [
    {
     "data": {
      "text/plain": [
       "array([1. , 2. , 3. , 3.5, 4. ])"
      ]
     },
     "execution_count": 9,
     "metadata": {},
     "output_type": "execute_result"
    }
   ],
   "source": [
    "arr3 = np.array(data2)\n",
    "arr3"
   ]
  },
  {
   "cell_type": "code",
   "execution_count": 10,
   "metadata": {},
   "outputs": [
    {
     "data": {
      "text/plain": [
       "(5,)"
      ]
     },
     "execution_count": 10,
     "metadata": {},
     "output_type": "execute_result"
    }
   ],
   "source": [
    "arr3.shape"
   ]
  },
  {
   "cell_type": "code",
   "execution_count": 11,
   "metadata": {},
   "outputs": [
    {
     "data": {
      "text/plain": [
       "dtype('float64')"
      ]
     },
     "execution_count": 11,
     "metadata": {},
     "output_type": "execute_result"
    }
   ],
   "source": [
    "arr3.dtype"
   ]
  },
  {
   "cell_type": "code",
   "execution_count": 12,
   "metadata": {},
   "outputs": [
    {
     "data": {
      "text/plain": [
       "array([[ 1,  2,  3],\n",
       "       [ 4,  5,  6],\n",
       "       [ 7,  8,  9],\n",
       "       [10, 11, 12]])"
      ]
     },
     "execution_count": 12,
     "metadata": {},
     "output_type": "execute_result"
    }
   ],
   "source": [
    "arr4 = np.array([[1,2,3],[4,5,6],[7,8,9],[10,11,12]])\n",
    "arr4"
   ]
  },
  {
   "cell_type": "code",
   "execution_count": 13,
   "metadata": {},
   "outputs": [
    {
     "data": {
      "text/plain": [
       "(4, 3)"
      ]
     },
     "execution_count": 13,
     "metadata": {},
     "output_type": "execute_result"
    }
   ],
   "source": [
    "arr4.shape"
   ]
  },
  {
   "cell_type": "markdown",
   "metadata": {},
   "source": [
    "#### numpy shape\n",
    "numpy에서는 해당 array의 크기를 알 수 있다.\n",
    "shape 을 확인함으로써 몇개의 데이터가 있는지, 몇 차원으로 존재하는지 등을 확인할 수 있다.\n",
    "위에서 arr1.shape의 결과는 (5,) 으로써, 1차원의 데이터이며 총 5라는 크기를 갖고 있음을 알 수 있다.\n",
    "arr4.shape의 결과는 (4,3) 으로써, 2차원의 데이터이며 4 * 3 크기를 갖고 있는 array 이다.\n",
    "\n",
    "#### numpy 자료형\n",
    "arr1이나 arr2는 int64라는 자료형을 갖는 것에 반해 arr3는 float64라는 자료형을 갖는다.\n",
    "이는 arr3내부 데이터를 살펴보면 3.5라는 실수형 데이터를 갖기 때문임을 알 수 있다.\n",
    "numpy에서 사용되는 자료형은 아래와 같다. (자료형 뒤에 붙는 숫자는 몇 비트 크기인지를 의미한다.)\n",
    "\n",
    "- 부호가 있는 정수 int(8, 16, 32, 64)\n",
    "- 부호가 없는 정수 uint(8 ,16, 32, 54)\n",
    "- 실수 float(16, 32, 64, 128)\n",
    "- 복소수 complex(64, 128, 256)\n",
    "- 불리언 bool\n",
    "- 문자열 string_\n",
    "- 파이썬 오프젝트 object\n",
    "- 유니코드 unicode_"
   ]
  },
  {
   "cell_type": "markdown",
   "metadata": {},
   "source": [
    "### 2-1. np.zeros(), np.ones(), np.arange() 함수\n",
    "numpy에서 array를 정의할 때 사용되는 함수들이다.\n",
    "\n",
    "아래 실습을 통해 각각이 어떻게 다른지 살펴본다."
   ]
  },
  {
   "cell_type": "code",
   "execution_count": 14,
   "metadata": {},
   "outputs": [
    {
     "data": {
      "text/plain": [
       "array([0., 0., 0., 0., 0., 0., 0., 0., 0., 0.])"
      ]
     },
     "execution_count": 14,
     "metadata": {},
     "output_type": "execute_result"
    }
   ],
   "source": [
    "np.zeros(10)"
   ]
  },
  {
   "cell_type": "code",
   "execution_count": 15,
   "metadata": {},
   "outputs": [
    {
     "data": {
      "text/plain": [
       "array([[0., 0., 0., 0., 0.],\n",
       "       [0., 0., 0., 0., 0.],\n",
       "       [0., 0., 0., 0., 0.]])"
      ]
     },
     "execution_count": 15,
     "metadata": {},
     "output_type": "execute_result"
    }
   ],
   "source": [
    "np.zeros((3,5))"
   ]
  },
  {
   "cell_type": "code",
   "execution_count": 16,
   "metadata": {},
   "outputs": [
    {
     "data": {
      "text/plain": [
       "array([1., 1., 1., 1., 1., 1., 1., 1., 1.])"
      ]
     },
     "execution_count": 16,
     "metadata": {},
     "output_type": "execute_result"
    }
   ],
   "source": [
    "# np.zeros() 함수는 인자로 받는 크기만큼, 모든요소가 0인 array를 만든다.\n",
    "np.ones(9)"
   ]
  },
  {
   "cell_type": "code",
   "execution_count": 17,
   "metadata": {},
   "outputs": [
    {
     "data": {
      "text/plain": [
       "array([[1., 1., 1., 1., 1., 1., 1., 1., 1., 1.],\n",
       "       [1., 1., 1., 1., 1., 1., 1., 1., 1., 1.]])"
      ]
     },
     "execution_count": 17,
     "metadata": {},
     "output_type": "execute_result"
    }
   ],
   "source": [
    "np.ones((2,10))"
   ]
  },
  {
   "cell_type": "code",
   "execution_count": 18,
   "metadata": {},
   "outputs": [
    {
     "data": {
      "text/plain": [
       "array([0, 1, 2, 3, 4, 5, 6, 7, 8, 9])"
      ]
     },
     "execution_count": 18,
     "metadata": {},
     "output_type": "execute_result"
    }
   ],
   "source": [
    "# np.ones() 함수는 인자로 받는 크기만큼, 모든요소가 1인 array를 만든다.\n",
    "np.arange(10)"
   ]
  },
  {
   "cell_type": "code",
   "execution_count": 19,
   "metadata": {},
   "outputs": [
    {
     "data": {
      "text/plain": [
       "array([3, 4, 5, 6, 7, 8, 9])"
      ]
     },
     "execution_count": 19,
     "metadata": {},
     "output_type": "execute_result"
    }
   ],
   "source": [
    "np.arange(3,10)"
   ]
  },
  {
   "cell_type": "code",
   "execution_count": 20,
   "metadata": {},
   "outputs": [],
   "source": [
    "# np.arange() 함수는 인자로 받는 값 만큼 1씩 증가하는 1차원 array를 만든다.\n",
    "# 이때 하나의 인자만 입력하면 0 ~ 입력한 인자, 값 만큼의 크기를 가진다."
   ]
  },
  {
   "cell_type": "markdown",
   "metadata": {},
   "source": [
    "## 3. Array 연산\n",
    "기본적으로 numpy에서 연산을 할때는 크기가 서로 동일한 array 끼리 연산이 진행된다.\n",
    "\n",
    "이때 같은 위치에 있는 요소들 끼리 연산이 진행된다."
   ]
  },
  {
   "cell_type": "code",
   "execution_count": 21,
   "metadata": {},
   "outputs": [
    {
     "data": {
      "text/plain": [
       "array([[1, 2, 3],\n",
       "       [4, 5, 6]])"
      ]
     },
     "execution_count": 21,
     "metadata": {},
     "output_type": "execute_result"
    }
   ],
   "source": [
    "arr1 = np.array([[1,2,3],[4,5,6]])\n",
    "arr1"
   ]
  },
  {
   "cell_type": "code",
   "execution_count": 22,
   "metadata": {},
   "outputs": [
    {
     "data": {
      "text/plain": [
       "(2, 3)"
      ]
     },
     "execution_count": 22,
     "metadata": {},
     "output_type": "execute_result"
    }
   ],
   "source": [
    "arr1.shape"
   ]
  },
  {
   "cell_type": "code",
   "execution_count": 23,
   "metadata": {},
   "outputs": [
    {
     "data": {
      "text/plain": [
       "array([[10, 11, 12],\n",
       "       [13, 14, 15]])"
      ]
     },
     "execution_count": 23,
     "metadata": {},
     "output_type": "execute_result"
    }
   ],
   "source": [
    "arr2 = np.array([[10,11,12],[13,14,15]])\n",
    "arr2"
   ]
  },
  {
   "cell_type": "code",
   "execution_count": 24,
   "metadata": {},
   "outputs": [
    {
     "data": {
      "text/plain": [
       "(2, 3)"
      ]
     },
     "execution_count": 24,
     "metadata": {},
     "output_type": "execute_result"
    }
   ],
   "source": [
    "arr2.shape"
   ]
  },
  {
   "cell_type": "markdown",
   "metadata": {},
   "source": [
    "### 3-1. array 덧셈"
   ]
  },
  {
   "cell_type": "code",
   "execution_count": 25,
   "metadata": {},
   "outputs": [
    {
     "data": {
      "text/plain": [
       "array([[11, 13, 15],\n",
       "       [17, 19, 21]])"
      ]
     },
     "execution_count": 25,
     "metadata": {},
     "output_type": "execute_result"
    }
   ],
   "source": [
    "arr1 + arr2"
   ]
  },
  {
   "cell_type": "markdown",
   "metadata": {},
   "source": [
    "### 3-2. array 뺄셈"
   ]
  },
  {
   "cell_type": "code",
   "execution_count": 26,
   "metadata": {},
   "outputs": [
    {
     "data": {
      "text/plain": [
       "array([[-9, -9, -9],\n",
       "       [-9, -9, -9]])"
      ]
     },
     "execution_count": 26,
     "metadata": {},
     "output_type": "execute_result"
    }
   ],
   "source": [
    "arr1 - arr2"
   ]
  },
  {
   "cell_type": "markdown",
   "metadata": {},
   "source": [
    "### 3-3. array 곱셈"
   ]
  },
  {
   "cell_type": "markdown",
   "metadata": {},
   "source": [
    "주의하자.\n",
    "\n",
    "행렬의 곱처럼 곱셈이 진행되는 것이 아니라 각 요소별로 곱셈이 진행된다."
   ]
  },
  {
   "cell_type": "code",
   "execution_count": 27,
   "metadata": {},
   "outputs": [
    {
     "data": {
      "text/plain": [
       "array([[10, 22, 36],\n",
       "       [52, 70, 90]])"
      ]
     },
     "execution_count": 27,
     "metadata": {},
     "output_type": "execute_result"
    }
   ],
   "source": [
    "arr1 * arr2"
   ]
  },
  {
   "cell_type": "markdown",
   "metadata": {},
   "source": [
    "### 3-4. array 나눗셈"
   ]
  },
  {
   "cell_type": "code",
   "execution_count": 28,
   "metadata": {},
   "outputs": [
    {
     "data": {
      "text/plain": [
       "array([[0.1       , 0.18181818, 0.25      ],\n",
       "       [0.30769231, 0.35714286, 0.4       ]])"
      ]
     },
     "execution_count": 28,
     "metadata": {},
     "output_type": "execute_result"
    }
   ],
   "source": [
    "arr1 / arr2"
   ]
  },
  {
   "cell_type": "markdown",
   "metadata": {},
   "source": [
    "### 3-5. array의 브로드 캐스트\n",
    "위에서는 array가 같은 크기를 가져야 서로 연산이 가능하다고 했지만,\n",
    "\n",
    "numpy에서는 브로드캐스트라는 기능을 제공한다.\n",
    "\n",
    "브로드캐스트란, 서로 크기가 다른 array가 연산이 가능하게끔 하는 것이다."
   ]
  },
  {
   "cell_type": "code",
   "execution_count": 29,
   "metadata": {},
   "outputs": [
    {
     "data": {
      "text/plain": [
       "array([[1, 2, 3],\n",
       "       [4, 5, 6]])"
      ]
     },
     "execution_count": 29,
     "metadata": {},
     "output_type": "execute_result"
    }
   ],
   "source": [
    "arr1"
   ]
  },
  {
   "cell_type": "code",
   "execution_count": 30,
   "metadata": {},
   "outputs": [
    {
     "data": {
      "text/plain": [
       "(2, 3)"
      ]
     },
     "execution_count": 30,
     "metadata": {},
     "output_type": "execute_result"
    }
   ],
   "source": [
    "arr1.shape"
   ]
  },
  {
   "cell_type": "code",
   "execution_count": 31,
   "metadata": {},
   "outputs": [
    {
     "data": {
      "text/plain": [
       "array([10, 11, 12])"
      ]
     },
     "execution_count": 31,
     "metadata": {},
     "output_type": "execute_result"
    }
   ],
   "source": [
    "arr3 = np.array([10,11,12])\n",
    "arr3"
   ]
  },
  {
   "cell_type": "code",
   "execution_count": 32,
   "metadata": {},
   "outputs": [
    {
     "data": {
      "text/plain": [
       "(3,)"
      ]
     },
     "execution_count": 32,
     "metadata": {},
     "output_type": "execute_result"
    }
   ],
   "source": [
    "arr3.shape"
   ]
  },
  {
   "cell_type": "code",
   "execution_count": 33,
   "metadata": {},
   "outputs": [
    {
     "data": {
      "text/plain": [
       "array([[11, 13, 15],\n",
       "       [14, 16, 18]])"
      ]
     },
     "execution_count": 33,
     "metadata": {},
     "output_type": "execute_result"
    }
   ],
   "source": [
    "arr1 + arr3"
   ]
  },
  {
   "cell_type": "code",
   "execution_count": 34,
   "metadata": {},
   "outputs": [
    {
     "data": {
      "text/plain": [
       "array([[10, 22, 36],\n",
       "       [40, 55, 72]])"
      ]
     },
     "execution_count": 34,
     "metadata": {},
     "output_type": "execute_result"
    }
   ],
   "source": [
    "arr1 * arr3"
   ]
  },
  {
   "cell_type": "markdown",
   "metadata": {},
   "source": [
    "위와 같이 서로 크기가 다른 arr1과 arr3의 연산이 가능하다.\n",
    "\n",
    "연산결과를 살펴보면 arr3이 [10,11,12] 에서 [[10,11,12],[10,11,12]]로 확장되어 계산되었음을 확인할 수 있다.\n",
    "\n",
    "동일한 방식으로 하나의 array에 스칼라 연산도 가능하다."
   ]
  },
  {
   "cell_type": "code",
   "execution_count": 35,
   "metadata": {},
   "outputs": [
    {
     "data": {
      "text/plain": [
       "array([[10, 20, 30],\n",
       "       [40, 50, 60]])"
      ]
     },
     "execution_count": 35,
     "metadata": {},
     "output_type": "execute_result"
    }
   ],
   "source": [
    "arr1 * 10"
   ]
  },
  {
   "cell_type": "code",
   "execution_count": 36,
   "metadata": {},
   "outputs": [
    {
     "data": {
      "text/plain": [
       "array([[ 1,  4,  9],\n",
       "       [16, 25, 36]], dtype=int32)"
      ]
     },
     "execution_count": 36,
     "metadata": {},
     "output_type": "execute_result"
    }
   ],
   "source": [
    "# 요소에 대해 제곱처리\n",
    "arr1 ** 2"
   ]
  },
  {
   "cell_type": "markdown",
   "metadata": {},
   "source": [
    "## 4. Array 인덱싱\n",
    "numpy에서 사용되는 인덱싱은 기본적으로 python 인덱싱과 동일하다.\n",
    "\n",
    "이때, python에서와 같이 1번째로 시작하는 것이 아니라 0번째로 시작하는 것에 주의한다."
   ]
  },
  {
   "cell_type": "code",
   "execution_count": 37,
   "metadata": {},
   "outputs": [
    {
     "data": {
      "text/plain": [
       "array([0, 1, 2, 3, 4, 5, 6, 7, 8, 9])"
      ]
     },
     "execution_count": 37,
     "metadata": {},
     "output_type": "execute_result"
    }
   ],
   "source": [
    "arr1 = np.arange(10)\n",
    "arr1"
   ]
  },
  {
   "cell_type": "code",
   "execution_count": 38,
   "metadata": {},
   "outputs": [
    {
     "data": {
      "text/plain": [
       "0"
      ]
     },
     "execution_count": 38,
     "metadata": {},
     "output_type": "execute_result"
    }
   ],
   "source": [
    "# 0번째 요소\n",
    "arr1[0]"
   ]
  },
  {
   "cell_type": "code",
   "execution_count": 39,
   "metadata": {},
   "outputs": [
    {
     "data": {
      "text/plain": [
       "3"
      ]
     },
     "execution_count": 39,
     "metadata": {},
     "output_type": "execute_result"
    }
   ],
   "source": [
    "# 3번째 요소\n",
    "arr1[3]"
   ]
  },
  {
   "cell_type": "code",
   "execution_count": 40,
   "metadata": {},
   "outputs": [
    {
     "data": {
      "text/plain": [
       "array([3, 4, 5, 6, 7, 8])"
      ]
     },
     "execution_count": 40,
     "metadata": {},
     "output_type": "execute_result"
    }
   ],
   "source": [
    "# 3번째 요소부터 8번째 요소\n",
    "arr1[3:9]"
   ]
  },
  {
   "cell_type": "code",
   "execution_count": 41,
   "metadata": {},
   "outputs": [
    {
     "data": {
      "text/plain": [
       "array([0, 1, 2, 3, 4, 5, 6, 7, 8, 9])"
      ]
     },
     "execution_count": 41,
     "metadata": {},
     "output_type": "execute_result"
    }
   ],
   "source": [
    "arr1[:]"
   ]
  },
  {
   "cell_type": "markdown",
   "metadata": {},
   "source": [
    "물론 1차원이 아닌 그 이상의 차원에서도 인덱싱이 가능하다."
   ]
  },
  {
   "cell_type": "code",
   "execution_count": 42,
   "metadata": {},
   "outputs": [],
   "source": [
    "arr2 = np.array([[1,2,3,4],\n",
    "                 [5,6,7,8],\n",
    "                 [9,10,11,12]])"
   ]
  },
  {
   "cell_type": "code",
   "execution_count": 43,
   "metadata": {},
   "outputs": [
    {
     "data": {
      "text/plain": [
       "array([[ 1,  2,  3,  4],\n",
       "       [ 5,  6,  7,  8],\n",
       "       [ 9, 10, 11, 12]])"
      ]
     },
     "execution_count": 43,
     "metadata": {},
     "output_type": "execute_result"
    }
   ],
   "source": [
    "arr2"
   ]
  },
  {
   "cell_type": "code",
   "execution_count": 44,
   "metadata": {},
   "outputs": [
    {
     "data": {
      "text/plain": [
       "1"
      ]
     },
     "execution_count": 44,
     "metadata": {},
     "output_type": "execute_result"
    }
   ],
   "source": [
    "# 2차원의 array에서 인덱싱을 하기 위해선 2개의 인자를 입력해야 합니다.\n",
    "arr2[0,0]"
   ]
  },
  {
   "cell_type": "code",
   "execution_count": 45,
   "metadata": {},
   "outputs": [
    {
     "data": {
      "text/plain": [
       "array([ 9, 10, 11, 12])"
      ]
     },
     "execution_count": 45,
     "metadata": {},
     "output_type": "execute_result"
    }
   ],
   "source": [
    "# 2행의 모든 요소 꺼내기\n",
    "arr2[2,:]"
   ]
  },
  {
   "cell_type": "code",
   "execution_count": 46,
   "metadata": {},
   "outputs": [
    {
     "data": {
      "text/plain": [
       "12"
      ]
     },
     "execution_count": 46,
     "metadata": {},
     "output_type": "execute_result"
    }
   ],
   "source": [
    "# 2행의 3번째 요소 꺼내기\n",
    "arr2[2,3]"
   ]
  },
  {
   "cell_type": "code",
   "execution_count": 47,
   "metadata": {},
   "outputs": [
    {
     "data": {
      "text/plain": [
       "array([ 4,  8, 12])"
      ]
     },
     "execution_count": 47,
     "metadata": {},
     "output_type": "execute_result"
    }
   ],
   "source": [
    "# 모든 열의 3번째 요소 꺼내기\n",
    "arr2[:,3]"
   ]
  },
  {
   "cell_type": "markdown",
   "metadata": {},
   "source": [
    "## 5. Array boolean 인덱싱(마스크)\n",
    "위에서 이용한 다차원의 인덱싱을 응용하여 boolean 인덱싱을 할 수 있다.\n",
    "\n",
    "해당 기능은 주로 마스크라고 이야기하는데, boolean인덱싱을 통해 만들어낸 array를 통해\n",
    "\n",
    "우리가 원하는 행 또는 열의 값만 뽑아낼 수 있다.\n",
    "\n",
    "즉, 마스크처럼 우리가 가리고 싶은 부분은 가리고, 원하는 요소만 꺼낼 수 있다."
   ]
  },
  {
   "cell_type": "code",
   "execution_count": 48,
   "metadata": {},
   "outputs": [],
   "source": [
    "names = np.array(['Beomwoo','Beomwoo','Kim','Joan','Lee','Beomwoo','Park','Beomwoo'])"
   ]
  },
  {
   "cell_type": "code",
   "execution_count": 49,
   "metadata": {},
   "outputs": [
    {
     "data": {
      "text/plain": [
       "array(['Beomwoo', 'Beomwoo', 'Kim', 'Joan', 'Lee', 'Beomwoo', 'Park',\n",
       "       'Beomwoo'], dtype='<U7')"
      ]
     },
     "execution_count": 49,
     "metadata": {},
     "output_type": "execute_result"
    }
   ],
   "source": [
    "names"
   ]
  },
  {
   "cell_type": "code",
   "execution_count": 50,
   "metadata": {},
   "outputs": [
    {
     "data": {
      "text/plain": [
       "(8,)"
      ]
     },
     "execution_count": 50,
     "metadata": {},
     "output_type": "execute_result"
    }
   ],
   "source": [
    "names.shape"
   ]
  },
  {
   "cell_type": "code",
   "execution_count": 51,
   "metadata": {},
   "outputs": [],
   "source": [
    "# 아래에서 사용되는 np.random.randn() 함수는 기대값이 0이고, 표준편차가 1인 가우시안 정규 분포를 따르는 난수를 발생시키는 함수이다.\n",
    "# 이 외에도 0~1의 난수를 발생시키는 np.random.rand() 함수도 존재한다.\n",
    "data = np.random.randn(8,4)"
   ]
  },
  {
   "cell_type": "code",
   "execution_count": 52,
   "metadata": {},
   "outputs": [
    {
     "data": {
      "text/plain": [
       "array([[ 1.02986075e-01, -2.85965500e-01, -9.53332180e-02,\n",
       "        -1.03783853e+00],\n",
       "       [-1.47098616e+00,  2.48175375e-01, -4.11326508e-02,\n",
       "         9.46553228e-01],\n",
       "       [-5.79017239e-05,  1.46966396e-01,  3.20944470e-01,\n",
       "         2.12788308e-01],\n",
       "       [ 7.54661298e-02,  5.02598535e-01, -3.08618745e-01,\n",
       "        -2.00857369e-01],\n",
       "       [ 1.72571788e+00,  2.45660833e-01,  2.08465882e+00,\n",
       "         5.94220195e-01],\n",
       "       [-5.27647945e-01,  7.63680535e-01,  2.57335407e-02,\n",
       "        -9.99180503e-01],\n",
       "       [ 6.35804923e-01, -1.47001715e+00,  8.89398205e-01,\n",
       "        -3.08894172e-01],\n",
       "       [-5.90964230e-01, -4.63108377e-01,  4.80102922e-01,\n",
       "         6.43857814e-01]])"
      ]
     },
     "execution_count": 52,
     "metadata": {},
     "output_type": "execute_result"
    }
   ],
   "source": [
    "data"
   ]
  },
  {
   "cell_type": "code",
   "execution_count": 53,
   "metadata": {},
   "outputs": [
    {
     "data": {
      "text/plain": [
       "(8, 4)"
      ]
     },
     "execution_count": 53,
     "metadata": {},
     "output_type": "execute_result"
    }
   ],
   "source": [
    "data.shape"
   ]
  },
  {
   "cell_type": "markdown",
   "metadata": {},
   "source": [
    "위와 같은 names와 data라는 array가 있다.\n",
    "\n",
    "이때, names의 각 요소가 data의 각 행과 연결된다고 가정해보자.\n",
    "\n",
    "그리고 이 때, names가 Beomwoo인 행의 data만 보고 싶을 때 다음과 같이 마스크를 사용한다."
   ]
  },
  {
   "cell_type": "code",
   "execution_count": 54,
   "metadata": {},
   "outputs": [],
   "source": [
    "# 요소가 Beomwoo인 항목에 대한 mask 생성\n",
    "names_Beomwoo_mask = (names == 'Beomwoo')"
   ]
  },
  {
   "cell_type": "code",
   "execution_count": 55,
   "metadata": {},
   "outputs": [
    {
     "data": {
      "text/plain": [
       "array([ True,  True, False, False, False,  True, False,  True])"
      ]
     },
     "execution_count": 55,
     "metadata": {},
     "output_type": "execute_result"
    }
   ],
   "source": [
    "names_Beomwoo_mask"
   ]
  },
  {
   "cell_type": "code",
   "execution_count": 56,
   "metadata": {},
   "outputs": [
    {
     "data": {
      "text/plain": [
       "array([[ 0.10298607, -0.2859655 , -0.09533322, -1.03783853],\n",
       "       [-1.47098616,  0.24817537, -0.04113265,  0.94655323],\n",
       "       [-0.52764795,  0.76368054,  0.02573354, -0.9991805 ],\n",
       "       [-0.59096423, -0.46310838,  0.48010292,  0.64385781]])"
      ]
     },
     "execution_count": 56,
     "metadata": {},
     "output_type": "execute_result"
    }
   ],
   "source": [
    "data[names_Beomwoo_mask,:]"
   ]
  },
  {
   "cell_type": "markdown",
   "metadata": {},
   "source": [
    "위의 결과를 보면, 요소가 Beomwoo인 것은 0번째, 1번째, 5번째, 7번째 이므로\n",
    "\n",
    "data에서 0,1,5,7행의 모든 요소를 꺼내와야 한다.\n",
    "\n",
    "이를 위해 요소가 Beomwoo인 것에 대한 boolean 값을 가지는 mask를 만들었고\n",
    "\n",
    "마스크를 인덱싱에 응용하여 data의 0,1,5,7행을 꺼냈다."
   ]
  },
  {
   "cell_type": "code",
   "execution_count": 57,
   "metadata": {},
   "outputs": [
    {
     "data": {
      "text/plain": [
       "array([[-5.79017239e-05,  1.46966396e-01,  3.20944470e-01,\n",
       "         2.12788308e-01]])"
      ]
     },
     "execution_count": 57,
     "metadata": {},
     "output_type": "execute_result"
    }
   ],
   "source": [
    "# 요소가 Kim인 행의 데이터만 꺼내기\n",
    "data[names == 'Kim',:]"
   ]
  },
  {
   "cell_type": "code",
   "execution_count": 58,
   "metadata": {},
   "outputs": [
    {
     "data": {
      "text/plain": [
       "array([[-5.79017239e-05,  1.46966396e-01,  3.20944470e-01,\n",
       "         2.12788308e-01],\n",
       "       [ 6.35804923e-01, -1.47001715e+00,  8.89398205e-01,\n",
       "        -3.08894172e-01]])"
      ]
     },
     "execution_count": 58,
     "metadata": {},
     "output_type": "execute_result"
    }
   ],
   "source": [
    "# 논리 연산을 응용하여, 요소가 Kim 또는 Park인 행의 데이터만 꺼내기\n",
    "data[(names == 'Kim') | (names == 'Park'),:]"
   ]
  },
  {
   "cell_type": "markdown",
   "metadata": {},
   "source": [
    "물론 data array 자체적으로도 마스크를 만들고, 이를 응용하여 인덱싱이 가능하다.\n",
    "\n",
    "data array에서 0번째 열의 값이 0보다 작은 행을 구해보자."
   ]
  },
  {
   "cell_type": "code",
   "execution_count": 59,
   "metadata": {},
   "outputs": [
    {
     "data": {
      "text/plain": [
       "array([False,  True,  True, False, False,  True, False,  True])"
      ]
     },
     "execution_count": 59,
     "metadata": {},
     "output_type": "execute_result"
    }
   ],
   "source": [
    "# 먼저 마스크를 만든다.\n",
    "# data array에서 0번째 열이 0보다 작은 요소의 boolean 값은 다음과 같다.\n",
    "data[:,0] < 0"
   ]
  },
  {
   "cell_type": "code",
   "execution_count": 60,
   "metadata": {},
   "outputs": [
    {
     "data": {
      "text/plain": [
       "array([[-1.47098616e+00,  2.48175375e-01, -4.11326508e-02,\n",
       "         9.46553228e-01],\n",
       "       [-5.79017239e-05,  1.46966396e-01,  3.20944470e-01,\n",
       "         2.12788308e-01],\n",
       "       [-5.27647945e-01,  7.63680535e-01,  2.57335407e-02,\n",
       "        -9.99180503e-01],\n",
       "       [-5.90964230e-01, -4.63108377e-01,  4.80102922e-01,\n",
       "         6.43857814e-01]])"
      ]
     },
     "execution_count": 60,
     "metadata": {},
     "output_type": "execute_result"
    }
   ],
   "source": [
    "# 위에서 만든 마스크를 이용하여 0번째 열의 값이 0보다 작은 행을 구한다.\n",
    "data[data[:,0]<0,:]"
   ]
  },
  {
   "cell_type": "markdown",
   "metadata": {},
   "source": [
    "이를 통해 특정 위치에만 우리가 원하는 값을 대입할 수 있다.\n",
    "\n",
    "위에서 얻은, 0번째 열의 값이 0보다 작은 행의 2,3번째 열값에 0을 대입해보자."
   ]
  },
  {
   "cell_type": "code",
   "execution_count": 61,
   "metadata": {},
   "outputs": [
    {
     "data": {
      "text/plain": [
       "array([[-0.04113265,  0.94655323],\n",
       "       [ 0.32094447,  0.21278831],\n",
       "       [ 0.02573354, -0.9991805 ],\n",
       "       [ 0.48010292,  0.64385781]])"
      ]
     },
     "execution_count": 61,
     "metadata": {},
     "output_type": "execute_result"
    }
   ],
   "source": [
    "# 0번째 열의 값이 0보다 작은 행의 2,3번째 열 값\n",
    "data[data[:,0]<0,2:4]"
   ]
  },
  {
   "cell_type": "code",
   "execution_count": 62,
   "metadata": {},
   "outputs": [
    {
     "data": {
      "text/plain": [
       "array([[ 1.02986075e-01, -2.85965500e-01, -9.53332180e-02,\n",
       "        -1.03783853e+00],\n",
       "       [-1.47098616e+00,  2.48175375e-01,  0.00000000e+00,\n",
       "         0.00000000e+00],\n",
       "       [-5.79017239e-05,  1.46966396e-01,  0.00000000e+00,\n",
       "         0.00000000e+00],\n",
       "       [ 7.54661298e-02,  5.02598535e-01, -3.08618745e-01,\n",
       "        -2.00857369e-01],\n",
       "       [ 1.72571788e+00,  2.45660833e-01,  2.08465882e+00,\n",
       "         5.94220195e-01],\n",
       "       [-5.27647945e-01,  7.63680535e-01,  0.00000000e+00,\n",
       "         0.00000000e+00],\n",
       "       [ 6.35804923e-01, -1.47001715e+00,  8.89398205e-01,\n",
       "        -3.08894172e-01],\n",
       "       [-5.90964230e-01, -4.63108377e-01,  0.00000000e+00,\n",
       "         0.00000000e+00]])"
      ]
     },
     "execution_count": 62,
     "metadata": {},
     "output_type": "execute_result"
    }
   ],
   "source": [
    "data[data[:,0]<0,2:4] = 0\n",
    "data"
   ]
  },
  {
   "cell_type": "markdown",
   "metadata": {},
   "source": [
    "## 6. Numpy 함수\n",
    "numpy에서는 array에 적용되는 다양한 함수가 있다."
   ]
  },
  {
   "cell_type": "markdown",
   "metadata": {},
   "source": [
    "### 6-1. 하나의 array에 적용되는 함수"
   ]
  },
  {
   "cell_type": "code",
   "execution_count": 63,
   "metadata": {},
   "outputs": [
    {
     "data": {
      "text/plain": [
       "array([[-1.15496454,  0.59050021,  0.49390619],\n",
       "       [-0.69146405,  0.40217602,  0.08806803],\n",
       "       [-0.96063218, -0.33530954, -1.46980557],\n",
       "       [-0.87641303,  0.05356809,  0.29419752],\n",
       "       [-0.09170898, -0.46085955,  1.06521861]])"
      ]
     },
     "execution_count": 63,
     "metadata": {},
     "output_type": "execute_result"
    }
   ],
   "source": [
    "arr1 = np.random.randn(5,3)\n",
    "arr1"
   ]
  },
  {
   "cell_type": "code",
   "execution_count": 64,
   "metadata": {},
   "outputs": [
    {
     "data": {
      "text/plain": [
       "array([[1.15496454, 0.59050021, 0.49390619],\n",
       "       [0.69146405, 0.40217602, 0.08806803],\n",
       "       [0.96063218, 0.33530954, 1.46980557],\n",
       "       [0.87641303, 0.05356809, 0.29419752],\n",
       "       [0.09170898, 0.46085955, 1.06521861]])"
      ]
     },
     "execution_count": 64,
     "metadata": {},
     "output_type": "execute_result"
    }
   ],
   "source": [
    "# 각 성분의 절대값 계산하기\n",
    "np.abs(arr1)"
   ]
  },
  {
   "cell_type": "code",
   "execution_count": 65,
   "metadata": {},
   "outputs": [
    {
     "name": "stderr",
     "output_type": "stream",
     "text": [
      "<ipython-input-65-1adcb47f53b6>:2: RuntimeWarning: invalid value encountered in sqrt\n",
      "  np.sqrt(arr1)\n"
     ]
    },
    {
     "data": {
      "text/plain": [
       "array([[       nan, 0.76844011, 0.7027846 ],\n",
       "       [       nan, 0.63417349, 0.29676258],\n",
       "       [       nan,        nan,        nan],\n",
       "       [       nan, 0.23144782, 0.54239977],\n",
       "       [       nan,        nan, 1.03209428]])"
      ]
     },
     "execution_count": 65,
     "metadata": {},
     "output_type": "execute_result"
    }
   ],
   "source": [
    "# 각 성분의 제곱근 계산하기 ( == array ** 0.5)\n",
    "np.sqrt(arr1)"
   ]
  },
  {
   "cell_type": "code",
   "execution_count": 66,
   "metadata": {},
   "outputs": [
    {
     "data": {
      "text/plain": [
       "array([[1.33394308, 0.34869049, 0.24394332],\n",
       "       [0.47812253, 0.16174555, 0.00775598],\n",
       "       [0.92281419, 0.11243249, 2.16032841],\n",
       "       [0.7680998 , 0.00286954, 0.08655218],\n",
       "       [0.00841054, 0.21239152, 1.13469068]])"
      ]
     },
     "execution_count": 66,
     "metadata": {},
     "output_type": "execute_result"
    }
   ],
   "source": [
    "# 각 성분의 제곱 계산하기\n",
    "np.square(arr1)"
   ]
  },
  {
   "cell_type": "code",
   "execution_count": 67,
   "metadata": {},
   "outputs": [
    {
     "data": {
      "text/plain": [
       "array([[0.31506871, 1.80489101, 1.63870482],\n",
       "       [0.50084227, 1.49507447, 1.09206241],\n",
       "       [0.3826509 , 0.7151167 , 0.22997019],\n",
       "       [0.4162734 , 1.05502883, 1.34204895],\n",
       "       [0.91237063, 0.63074126, 2.9014732 ]])"
      ]
     },
     "execution_count": 67,
     "metadata": {},
     "output_type": "execute_result"
    }
   ],
   "source": [
    "# 각 성분을 무리수 e의 지수로 삼은 값을 계산하기\n",
    "np.exp(arr1)"
   ]
  },
  {
   "cell_type": "code",
   "execution_count": 68,
   "metadata": {},
   "outputs": [
    {
     "name": "stderr",
     "output_type": "stream",
     "text": [
      "<ipython-input-68-bddc4320f0c3>:2: RuntimeWarning: invalid value encountered in log\n",
      "  np.log(arr1)\n"
     ]
    },
    {
     "data": {
      "text/plain": [
       "array([[        nan, -0.52678529, -0.70540968],\n",
       "       [        nan, -0.91086542, -2.42964571],\n",
       "       [        nan,         nan,         nan],\n",
       "       [        nan, -2.92680167, -1.22350392],\n",
       "       [        nan,         nan,  0.06318004]])"
      ]
     },
     "execution_count": 68,
     "metadata": {},
     "output_type": "execute_result"
    }
   ],
   "source": [
    "# 각 성분을 자연로그, 상용로그, 밑이 2인 로그를 씌운 값을 계산하기\n",
    "np.log(arr1)"
   ]
  },
  {
   "cell_type": "code",
   "execution_count": 69,
   "metadata": {},
   "outputs": [
    {
     "name": "stderr",
     "output_type": "stream",
     "text": [
      "<ipython-input-69-53e7f8b3389a>:1: RuntimeWarning: invalid value encountered in log10\n",
      "  np.log10(arr1)\n"
     ]
    },
    {
     "data": {
      "text/plain": [
       "array([[        nan, -0.22877995, -0.30635553],\n",
       "       [        nan, -0.39558383, -1.05518173],\n",
       "       [        nan,         nan,         nan],\n",
       "       [        nan, -1.27109382, -0.531361  ],\n",
       "       [        nan,         nan,  0.02743874]])"
      ]
     },
     "execution_count": 69,
     "metadata": {},
     "output_type": "execute_result"
    }
   ],
   "source": [
    "np.log10(arr1)"
   ]
  },
  {
   "cell_type": "code",
   "execution_count": 70,
   "metadata": {},
   "outputs": [
    {
     "name": "stderr",
     "output_type": "stream",
     "text": [
      "<ipython-input-70-b8a38c33f7f8>:1: RuntimeWarning: invalid value encountered in log2\n",
      "  np.log2(arr1)\n"
     ]
    },
    {
     "data": {
      "text/plain": [
       "array([[        nan, -0.75999053, -1.01769105],\n",
       "       [        nan, -1.31410103, -3.50523782],\n",
       "       [        nan,         nan,         nan],\n",
       "       [        nan, -4.22248226, -1.76514303],\n",
       "       [        nan,         nan,  0.09114953]])"
      ]
     },
     "execution_count": 70,
     "metadata": {},
     "output_type": "execute_result"
    }
   ],
   "source": [
    "np.log2(arr1)"
   ]
  },
  {
   "cell_type": "code",
   "execution_count": 71,
   "metadata": {},
   "outputs": [
    {
     "data": {
      "text/plain": [
       "array([[-1.,  1.,  1.],\n",
       "       [-1.,  1.,  1.],\n",
       "       [-1., -1., -1.],\n",
       "       [-1.,  1.,  1.],\n",
       "       [-1., -1.,  1.]])"
      ]
     },
     "execution_count": 71,
     "metadata": {},
     "output_type": "execute_result"
    }
   ],
   "source": [
    "# 각 성분의 부호 계산하기(+인 경우 1, -인 경우 -1, 0인 경우 0)\n",
    "np.sign(arr1)"
   ]
  },
  {
   "cell_type": "code",
   "execution_count": 72,
   "metadata": {},
   "outputs": [
    {
     "data": {
      "text/plain": [
       "array([[-1.,  1.,  1.],\n",
       "       [-0.,  1.,  1.],\n",
       "       [-0., -0., -1.],\n",
       "       [-0.,  1.,  1.],\n",
       "       [-0., -0.,  2.]])"
      ]
     },
     "execution_count": 72,
     "metadata": {},
     "output_type": "execute_result"
    }
   ],
   "source": [
    "# 각 성분의 소수 첫 번째 자리에서 올림한 값을 계산하기\n",
    "np.ceil(arr1)"
   ]
  },
  {
   "cell_type": "code",
   "execution_count": 73,
   "metadata": {},
   "outputs": [
    {
     "data": {
      "text/plain": [
       "array([[-2.,  0.,  0.],\n",
       "       [-1.,  0.,  0.],\n",
       "       [-1., -1., -2.],\n",
       "       [-1.,  0.,  0.],\n",
       "       [-1., -1.,  1.]])"
      ]
     },
     "execution_count": 73,
     "metadata": {},
     "output_type": "execute_result"
    }
   ],
   "source": [
    "# 각 성분의 소수 첫 번째 자리에서 내림한 값을 계산하기\n",
    "np.floor(arr1)"
   ]
  },
  {
   "cell_type": "code",
   "execution_count": 74,
   "metadata": {},
   "outputs": [
    {
     "data": {
      "text/plain": [
       "array([[False, False, False],\n",
       "       [False, False, False],\n",
       "       [False, False, False],\n",
       "       [False, False, False],\n",
       "       [False, False, False]])"
      ]
     },
     "execution_count": 74,
     "metadata": {},
     "output_type": "execute_result"
    }
   ],
   "source": [
    "# 각 성분이 NaN인 경우 True를, 아닌 경우 False를 반환하기\n",
    "np.isnan(arr1)"
   ]
  },
  {
   "cell_type": "code",
   "execution_count": 75,
   "metadata": {},
   "outputs": [
    {
     "data": {
      "text/plain": [
       "array([[False, False, False],\n",
       "       [False, False, False],\n",
       "       [False, False, False],\n",
       "       [False, False, False],\n",
       "       [False, False, False]])"
      ]
     },
     "execution_count": 75,
     "metadata": {},
     "output_type": "execute_result"
    }
   ],
   "source": [
    "# 각 성분이 NaN인 경우 True를, 아닌 경우 False를 반환하기\n",
    "np.isnan(arr1)"
   ]
  },
  {
   "cell_type": "code",
   "execution_count": 76,
   "metadata": {},
   "outputs": [
    {
     "name": "stderr",
     "output_type": "stream",
     "text": [
      "<ipython-input-76-6bad7ca87a38>:1: RuntimeWarning: invalid value encountered in log\n",
      "  np.isnan(np.log(arr1))\n"
     ]
    },
    {
     "data": {
      "text/plain": [
       "array([[ True, False, False],\n",
       "       [ True, False, False],\n",
       "       [ True,  True,  True],\n",
       "       [ True, False, False],\n",
       "       [ True,  True, False]])"
      ]
     },
     "execution_count": 76,
     "metadata": {},
     "output_type": "execute_result"
    }
   ],
   "source": [
    "np.isnan(np.log(arr1))"
   ]
  },
  {
   "cell_type": "code",
   "execution_count": 77,
   "metadata": {},
   "outputs": [
    {
     "data": {
      "text/plain": [
       "array([[False, False, False],\n",
       "       [False, False, False],\n",
       "       [False, False, False],\n",
       "       [False, False, False],\n",
       "       [False, False, False]])"
      ]
     },
     "execution_count": 77,
     "metadata": {},
     "output_type": "execute_result"
    }
   ],
   "source": [
    "# 각 성분이 무한대인 경우 True를, 아닌 경우 False를 반환하기\n",
    "np.isinf(arr1)"
   ]
  },
  {
   "cell_type": "code",
   "execution_count": 78,
   "metadata": {},
   "outputs": [
    {
     "data": {
      "text/plain": [
       "array([[0.40395097, 0.83066228, 0.88048778],\n",
       "       [0.77031327, 0.92021143, 0.99612452],\n",
       "       [0.57300199, 0.9443085 , 0.10081918],\n",
       "       [0.63991166, 0.99856557, 0.95703515],\n",
       "       [0.99579768, 0.89567057, 0.48431297]])"
      ]
     },
     "execution_count": 78,
     "metadata": {},
     "output_type": "execute_result"
    }
   ],
   "source": [
    "# 각 성분에 대해 삼각함수 값을 계산하기(cos, cosh, sin, sinh, tan, tanh)\n",
    "np.cos(arr1)"
   ]
  },
  {
   "cell_type": "code",
   "execution_count": 79,
   "metadata": {},
   "outputs": [
    {
     "data": {
      "text/plain": [
       "array([[-0.81939206,  0.53025527,  0.45731122],\n",
       "       [-0.59892171,  0.38180931,  0.08784105],\n",
       "       [-0.74455872, -0.32328353, -0.89954036],\n",
       "       [-0.70461779,  0.05351691,  0.28599361],\n",
       "       [-0.09145273, -0.43078451,  0.78765301]])"
      ]
     },
     "execution_count": 79,
     "metadata": {},
     "output_type": "execute_result"
    }
   ],
   "source": [
    "np.tanh(arr1)"
   ]
  },
  {
   "cell_type": "markdown",
   "metadata": {},
   "source": [
    "### 6-2. 두 개의 array에 적용되는 함수"
   ]
  },
  {
   "cell_type": "code",
   "execution_count": 80,
   "metadata": {},
   "outputs": [
    {
     "data": {
      "text/plain": [
       "array([[-1.15496454,  0.59050021,  0.49390619],\n",
       "       [-0.69146405,  0.40217602,  0.08806803],\n",
       "       [-0.96063218, -0.33530954, -1.46980557],\n",
       "       [-0.87641303,  0.05356809,  0.29419752],\n",
       "       [-0.09170898, -0.46085955,  1.06521861]])"
      ]
     },
     "execution_count": 80,
     "metadata": {},
     "output_type": "execute_result"
    }
   ],
   "source": [
    "arr1"
   ]
  },
  {
   "cell_type": "code",
   "execution_count": 81,
   "metadata": {},
   "outputs": [],
   "source": [
    "arr2 = np.random.randn(5,3)"
   ]
  },
  {
   "cell_type": "code",
   "execution_count": 82,
   "metadata": {},
   "outputs": [
    {
     "data": {
      "text/plain": [
       "array([[-0.08227866,  0.95472531, -1.33291113],\n",
       "       [-0.1504878 , -0.60151345, -0.42407145],\n",
       "       [ 0.27476224, -0.12255333,  0.80567595],\n",
       "       [ 0.49924074, -0.44480715, -1.78544033],\n",
       "       [-0.25374241,  0.69682322, -2.25554616]])"
      ]
     },
     "execution_count": 82,
     "metadata": {},
     "output_type": "execute_result"
    }
   ],
   "source": [
    "arr2"
   ]
  },
  {
   "cell_type": "code",
   "execution_count": 83,
   "metadata": {},
   "outputs": [
    {
     "data": {
      "text/plain": [
       "array([[ 0.09502894,  0.5637655 , -0.65833306],\n",
       "       [ 0.1040569 , -0.24191429, -0.03734714],\n",
       "       [-0.26394545,  0.0410933 , -1.18418699],\n",
       "       [-0.43754109, -0.02382747, -0.52527211],\n",
       "       [ 0.02327046, -0.32113764, -2.40264974]])"
      ]
     },
     "execution_count": 83,
     "metadata": {},
     "output_type": "execute_result"
    }
   ],
   "source": [
    "# 두 개의 array에 대해 동일한 위치의 성분끼리 연산 값을 계산하기(add, subtract, multiply, divide)\n",
    "np.multiply(arr1,arr2)"
   ]
  },
  {
   "cell_type": "code",
   "execution_count": 84,
   "metadata": {},
   "outputs": [
    {
     "data": {
      "text/plain": [
       "array([[-0.08227866,  0.95472531,  0.49390619],\n",
       "       [-0.1504878 ,  0.40217602,  0.08806803],\n",
       "       [ 0.27476224, -0.12255333,  0.80567595],\n",
       "       [ 0.49924074,  0.05356809,  0.29419752],\n",
       "       [-0.09170898,  0.69682322,  1.06521861]])"
      ]
     },
     "execution_count": 84,
     "metadata": {},
     "output_type": "execute_result"
    }
   ],
   "source": [
    "# 두 개의 array에 대해 동일한 위치의 성분끼리 비교하여 최대값 또는 최소값 계산하기(maximum, minimum)\n",
    "np.maximum(arr1,arr2)"
   ]
  },
  {
   "cell_type": "markdown",
   "metadata": {},
   "source": [
    "### 6-3. 통계 함수\n",
    "통계 함수를 통해 array의 합이나 평균등을 구할 때,\n",
    "\n",
    "추가로 axis라는 인자에 대한 값을 지정하여 열 또는 행의 합 또는 평균등을 구할 수 있다."
   ]
  },
  {
   "cell_type": "code",
   "execution_count": 85,
   "metadata": {},
   "outputs": [
    {
     "data": {
      "text/plain": [
       "array([[-1.15496454,  0.59050021,  0.49390619],\n",
       "       [-0.69146405,  0.40217602,  0.08806803],\n",
       "       [-0.96063218, -0.33530954, -1.46980557],\n",
       "       [-0.87641303,  0.05356809,  0.29419752],\n",
       "       [-0.09170898, -0.46085955,  1.06521861]])"
      ]
     },
     "execution_count": 85,
     "metadata": {},
     "output_type": "execute_result"
    }
   ],
   "source": [
    "arr1"
   ]
  },
  {
   "cell_type": "code",
   "execution_count": 86,
   "metadata": {},
   "outputs": [
    {
     "data": {
      "text/plain": [
       "-3.0535227770373723"
      ]
     },
     "execution_count": 86,
     "metadata": {},
     "output_type": "execute_result"
    }
   ],
   "source": [
    "# 전체 성분의 합을 계산\n",
    "np.sum(arr1)"
   ]
  },
  {
   "cell_type": "code",
   "execution_count": 87,
   "metadata": {},
   "outputs": [
    {
     "data": {
      "text/plain": [
       "array([-0.07055814, -0.20122   , -2.76574729, -0.52864742,  0.51265008])"
      ]
     },
     "execution_count": 87,
     "metadata": {},
     "output_type": "execute_result"
    }
   ],
   "source": [
    "# 열 간의 합을 계산\n",
    "np.sum(arr1, axis=1)"
   ]
  },
  {
   "cell_type": "code",
   "execution_count": 88,
   "metadata": {},
   "outputs": [
    {
     "data": {
      "text/plain": [
       "array([-3.77518278,  0.25007523,  0.47158477])"
      ]
     },
     "execution_count": 88,
     "metadata": {},
     "output_type": "execute_result"
    }
   ],
   "source": [
    "# 행 간의 합을 계산\n",
    "np.sum(arr1, axis=0)"
   ]
  },
  {
   "cell_type": "code",
   "execution_count": 89,
   "metadata": {},
   "outputs": [
    {
     "data": {
      "text/plain": [
       "-0.2035681851358248"
      ]
     },
     "execution_count": 89,
     "metadata": {},
     "output_type": "execute_result"
    }
   ],
   "source": [
    "# 전체 성분의 평균을 계산\n",
    "np.mean(arr1)"
   ]
  },
  {
   "cell_type": "code",
   "execution_count": 90,
   "metadata": {},
   "outputs": [
    {
     "data": {
      "text/plain": [
       "array([-0.75503656,  0.05001505,  0.09431695])"
      ]
     },
     "execution_count": 90,
     "metadata": {},
     "output_type": "execute_result"
    }
   ],
   "source": [
    "# 행 간의 평균을 계산\n",
    "np.mean(arr1, axis=0)"
   ]
  },
  {
   "cell_type": "code",
   "execution_count": 91,
   "metadata": {},
   "outputs": [
    {
     "data": {
      "text/plain": [
       "0.7005326648000988"
      ]
     },
     "execution_count": 91,
     "metadata": {},
     "output_type": "execute_result"
    }
   ],
   "source": [
    "# 전체 성분의 표준편차, 분산, 최소값, 최대값 계산(std, var, min, max)\n",
    "np.std(arr1)"
   ]
  },
  {
   "cell_type": "code",
   "execution_count": 92,
   "metadata": {},
   "outputs": [
    {
     "data": {
      "text/plain": [
       "array([-1.15496454, -0.69146405, -1.46980557, -0.87641303, -0.46085955])"
      ]
     },
     "execution_count": 92,
     "metadata": {},
     "output_type": "execute_result"
    }
   ],
   "source": [
    "np.min(arr1, axis=1)"
   ]
  },
  {
   "cell_type": "code",
   "execution_count": 93,
   "metadata": {},
   "outputs": [
    {
     "data": {
      "text/plain": [
       "8"
      ]
     },
     "execution_count": 93,
     "metadata": {},
     "output_type": "execute_result"
    }
   ],
   "source": [
    "# 전체 성분의 최소값, 최대값이 위치한 인덱스를 반환(argmin, argmax)\n",
    "np.argmin(arr1)"
   ]
  },
  {
   "cell_type": "code",
   "execution_count": 94,
   "metadata": {},
   "outputs": [
    {
     "data": {
      "text/plain": [
       "array([4, 0, 4], dtype=int64)"
      ]
     },
     "execution_count": 94,
     "metadata": {},
     "output_type": "execute_result"
    }
   ],
   "source": [
    "np.argmax(arr1,axis=0)"
   ]
  },
  {
   "cell_type": "code",
   "execution_count": 95,
   "metadata": {},
   "outputs": [
    {
     "data": {
      "text/plain": [
       "array([-1.15496454, -0.56446433, -0.07055814, -0.76202219, -0.35984617,\n",
       "       -0.27177814, -1.23241033, -1.56771986, -3.03752543, -3.91393846,\n",
       "       -3.86037037, -3.56617286, -3.65788183, -4.11874138, -3.05352278])"
      ]
     },
     "execution_count": 95,
     "metadata": {},
     "output_type": "execute_result"
    }
   ],
   "source": [
    "# 맨 처음 성분부터 각 성분까지의 누적합 또는 누적곱을 계산(cumsum, cumprod)\n",
    "np.cumsum(arr1)"
   ]
  },
  {
   "cell_type": "code",
   "execution_count": 96,
   "metadata": {},
   "outputs": [
    {
     "data": {
      "text/plain": [
       "array([[-1.15496454, -0.56446433, -0.07055814],\n",
       "       [-0.69146405, -0.28928803, -0.20122   ],\n",
       "       [-0.96063218, -1.29594172, -2.76574729],\n",
       "       [-0.87641303, -0.82284494, -0.52864742],\n",
       "       [-0.09170898, -0.55256853,  0.51265008]])"
      ]
     },
     "execution_count": 96,
     "metadata": {},
     "output_type": "execute_result"
    }
   ],
   "source": [
    "np.cumsum(arr1,axis=1)"
   ]
  },
  {
   "cell_type": "code",
   "execution_count": 97,
   "metadata": {},
   "outputs": [
    {
     "data": {
      "text/plain": [
       "array([-1.15496454e+00, -6.82006798e-01, -3.36847377e-01,  2.32917851e-01,\n",
       "        9.36739746e-02,  8.24968225e-03, -7.92491027e-03,  2.65729799e-03,\n",
       "       -3.90571138e-03,  3.42301635e-03,  1.83364457e-04,  5.39453677e-05,\n",
       "       -4.94727459e-06,  2.27999874e-06,  2.42869708e-06])"
      ]
     },
     "execution_count": 97,
     "metadata": {},
     "output_type": "execute_result"
    }
   ],
   "source": [
    "np.cumprod(arr1)"
   ]
  },
  {
   "cell_type": "markdown",
   "metadata": {},
   "source": [
    "### 6-4. 기타 함수"
   ]
  },
  {
   "cell_type": "code",
   "execution_count": 98,
   "metadata": {},
   "outputs": [
    {
     "data": {
      "text/plain": [
       "array([[-1.15496454,  0.59050021,  0.49390619],\n",
       "       [-0.69146405,  0.40217602,  0.08806803],\n",
       "       [-0.96063218, -0.33530954, -1.46980557],\n",
       "       [-0.87641303,  0.05356809,  0.29419752],\n",
       "       [-0.09170898, -0.46085955,  1.06521861]])"
      ]
     },
     "execution_count": 98,
     "metadata": {},
     "output_type": "execute_result"
    }
   ],
   "source": [
    "arr1"
   ]
  },
  {
   "cell_type": "code",
   "execution_count": 99,
   "metadata": {},
   "outputs": [
    {
     "data": {
      "text/plain": [
       "array([[-1.15496454,  0.49390619,  0.59050021],\n",
       "       [-0.69146405,  0.08806803,  0.40217602],\n",
       "       [-1.46980557, -0.96063218, -0.33530954],\n",
       "       [-0.87641303,  0.05356809,  0.29419752],\n",
       "       [-0.46085955, -0.09170898,  1.06521861]])"
      ]
     },
     "execution_count": 99,
     "metadata": {},
     "output_type": "execute_result"
    }
   ],
   "source": [
    "# 전체 성분에 대해서 오름차순으로 정렬\n",
    "np.sort(arr1)"
   ]
  },
  {
   "cell_type": "code",
   "execution_count": 100,
   "metadata": {},
   "outputs": [
    {
     "data": {
      "text/plain": [
       "array([[-0.46085955, -0.09170898,  1.06521861],\n",
       "       [-0.87641303,  0.05356809,  0.29419752],\n",
       "       [-1.46980557, -0.96063218, -0.33530954],\n",
       "       [-0.69146405,  0.08806803,  0.40217602],\n",
       "       [-1.15496454,  0.49390619,  0.59050021]])"
      ]
     },
     "execution_count": 100,
     "metadata": {},
     "output_type": "execute_result"
    }
   ],
   "source": [
    "# 전체 성분에 대해서 내림차순으로 정렬\n",
    "np.sort(arr1)[::-1]"
   ]
  },
  {
   "cell_type": "code",
   "execution_count": 101,
   "metadata": {},
   "outputs": [
    {
     "data": {
      "text/plain": [
       "array([[-1.15496454, -0.46085955, -1.46980557],\n",
       "       [-0.96063218, -0.33530954,  0.08806803],\n",
       "       [-0.87641303,  0.05356809,  0.29419752],\n",
       "       [-0.69146405,  0.40217602,  0.49390619],\n",
       "       [-0.09170898,  0.59050021,  1.06521861]])"
      ]
     },
     "execution_count": 101,
     "metadata": {},
     "output_type": "execute_result"
    }
   ],
   "source": [
    "# 행 방향으로 오름차순으로 정렬\n",
    "np.sort(arr1,axis=0)"
   ]
  },
  {
   "cell_type": "code",
   "execution_count": null,
   "metadata": {},
   "outputs": [],
   "source": []
  }
 ],
 "metadata": {
  "kernelspec": {
   "display_name": "Python 3",
   "language": "python",
   "name": "python3"
  },
  "language_info": {
   "codemirror_mode": {
    "name": "ipython",
    "version": 3
   },
   "file_extension": ".py",
   "mimetype": "text/x-python",
   "name": "python",
   "nbconvert_exporter": "python",
   "pygments_lexer": "ipython3",
   "version": "3.8.3"
  }
 },
 "nbformat": 4,
 "nbformat_minor": 4
}
